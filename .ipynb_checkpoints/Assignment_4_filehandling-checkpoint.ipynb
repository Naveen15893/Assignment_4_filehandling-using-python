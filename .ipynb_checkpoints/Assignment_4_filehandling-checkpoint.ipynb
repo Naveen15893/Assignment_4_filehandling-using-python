{
 "cells": [
  {
   "cell_type": "code",
   "execution_count": 2,
   "id": "f4c7db45-e356-4306-b2a5-9605710ac3c1",
   "metadata": {},
   "outputs": [
    {
     "name": "stdout",
     "output_type": "stream",
     "text": [
      "Text has been written to filehandling.txt\n"
     ]
    }
   ],
   "source": [
    "#  Task 1 - Create a new text file and write some text into it.\n",
    "\n",
    "#Ans\n",
    "file_name = \"filehandling.txt\"\n",
    "text_content = \"\"\"File handling in Python is a powerful\n",
    "and versatile tool that can be used to perform a wide range of operations. \n",
    "However, it is important to carefully consider the advantages and disadvantages \n",
    "of file handling when writing Python programs, to ensure that the code is \n",
    "secure, reliable, and performs well.\"\"\"\n",
    "\n",
    "# Open the file in write mode and write the content\n",
    "with open(file_name, \"w\") as file:\n",
    "    file.write(text_content)\n",
    "\n",
    "print(f\"Text has been written to {file_name}\")"
   ]
  },
  {
   "cell_type": "code",
   "execution_count": 3,
   "id": "4d2d6f5d-44be-40cd-b5e7-446a749e6661",
   "metadata": {},
   "outputs": [
    {
     "name": "stdout",
     "output_type": "stream",
     "text": [
      "File content:\n",
      "File handling in Python is a powerful\n",
      "and versatile tool that can be used to perform a wide range of operations. \n",
      "However, it is important to carefully consider the advantages and disadvantages \n",
      "of file handling when writing Python programs, to ensure that the code is \n",
      "secure, reliable, and performs well.\n"
     ]
    }
   ],
   "source": [
    "#Task 2  - Open and read the contents of the file you just created.\n",
    "\n",
    " # Ans  \n",
    "    # Open the file in read mode and read its contents\n",
    "with open(\"filehandling.txt\", \"r\") as file:\n",
    "    content = file.read()\n",
    "\n",
    "print(\"File content:\")\n",
    "print(content)"
   ]
  },
  {
   "cell_type": "code",
   "execution_count": 43,
   "id": "a01c5393-b68c-4b87-8fd7-41c4b06770dc",
   "metadata": {},
   "outputs": [
    {
     "name": "stdout",
     "output_type": "stream",
     "text": [
      "Additional text has been added to the file.\n"
     ]
    }
   ],
   "source": [
    "# TASK 3 - Add additional text to the existing file without deleting the current content.\n",
    "\n",
    " # Ans  \n",
    "    #Text to be added to the existing file\n",
    "# Text to be appended to the existing file\n",
    "# Text to be added to the existing file\n",
    "additional_text = \"\\nFile handling in Python allows you to perform a wide range of operations, such as creating, reading, writing, appending, renaming, and deleting files..\"\n",
    "\n",
    "# Open the file in append mode and write the additional text\n",
    "with open(\"filehandling.txt\", \"a\") as file:\n",
    "    file.write(additional_text)\n",
    "\n",
    "print(\"Additional text has been added to the file.\")\n"
   ]
  },
  {
   "cell_type": "code",
   "execution_count": 46,
   "id": "1469defc-04cd-4c04-b62c-a2fb612a0410",
   "metadata": {},
   "outputs": [
    {
     "name": "stdout",
     "output_type": "stream",
     "text": [
      "File handling in Python is a powerful\n",
      "and versatile tool that can be used to perform a wide range of operations. \n",
      "However, it is important to carefully consider the advantages and disadvantages \n",
      "of file handling when writing Python programs, to ensure that the code is \n",
      "secure, reliable, and performs well.\n",
      "Adding more text to the file.\n",
      "Python is versatile!\n",
      "Adding more text to the file.\n",
      "Python is versatile!\n",
      "Adding more text to the file.\n",
      "Python is versatile!\n",
      "Adding more text to the file.\n",
      "Python is versatile!\n",
      "Adding more text to the file.\n",
      "Python is versatile!\n",
      "Adding more text to the file.\n",
      "Python is versatile!\n",
      "Adding more text to the file.\n",
      "Python is versatile!\n",
      "Adding more text to the file.\n",
      "Python is versatile!\n",
      "Appending more text using append mode.\n",
      "Python is great for file handling!\n",
      "Appending more text using append mode.\n",
      "Python is great for file handling!\n",
      "Appending more text using append mode.\n",
      "Python is great for file handling!\n",
      "Finished reading the file.\n"
     ]
    }
   ],
   "source": [
    "# Task 4 - Read and print each line from the file one by one.\n",
    "\n",
    "# Ans  \n",
    "# Open the file in read mode\n",
    "with open(\"filehandling.txt\", \"r\") as file:\n",
    "    # Read and print each line one by one\n",
    "    for line in file:\n",
    "        print(line, end=\"\")  # 'end=\"\"' to avoid adding extra newlines\n",
    "\n",
    "print(\"\\nFinished reading the file.\")"
   ]
  },
  {
   "cell_type": "code",
   "execution_count": 37,
   "id": "6f2027e6-0679-4f2d-8d3b-58bacd24cac8",
   "metadata": {},
   "outputs": [
    {
     "name": "stdout",
     "output_type": "stream",
     "text": [
      "List items have been written to 'list_items.txt'.\n"
     ]
    }
   ],
   "source": [
    "# Task 5 - write the contents of a list to a file; with each item on a new line.\n",
    "# Ans  \n",
    "# List of items to write to the file\n",
    "items = [\"Moblie \", \"tablet\", \"Microphone\", \"laptop\", \"computer\"]\n",
    "\n",
    "# Open the file in write mode\n",
    "with open(\"list_items.txt\", \"w\") as file:\n",
    "    # Write each item to a new line in the file\n",
    "    for item in items:\n",
    "        file.write(item + \"\\n\")\n",
    "\n",
    "print(\"List items have been written to 'list_items.txt'.\")\n"
   ]
  },
  {
   "cell_type": "code",
   "execution_count": 24,
   "id": "3a54bb3c-39ff-437d-b521-a3fc6b53dc90",
   "metadata": {},
   "outputs": [
    {
     "name": "stdout",
     "output_type": "stream",
     "text": [
      "File content as a list:\n",
      "['Moblie', 'tablet', 'Microphone', 'laptop', 'computer']\n"
     ]
    }
   ],
   "source": [
    "# Task 6 -  Read the file content into a list; where each line is an element of the list.\n",
    "\n",
    "# Ans  \n",
    "# Open the file in read mode\n",
    "with open(\"list_items.txt\", \"r\") as file:\n",
    "    # Read the file contents into a list, with each line as an element\n",
    "    lines = file.readlines()\n",
    "\n",
    "# Strip newline characters from each line\n",
    "lines = [line.strip() for line in lines]\n",
    "\n",
    "print(\"File content as a list:\")\n",
    "print(lines)"
   ]
  },
  {
   "cell_type": "code",
   "execution_count": 25,
   "id": "748a8575-2be3-4e6d-8cf1-603ad549764c",
   "metadata": {},
   "outputs": [
    {
     "name": "stdout",
     "output_type": "stream",
     "text": [
      "Total number of words in the file: 5\n"
     ]
    }
   ],
   "source": [
    "# Task 7 - Count the total number of words in the file.\n",
    "\n",
    "# Ans  \n",
    "# Open the file in read mode\n",
    "with open(\"list_items.txt\", \"r\") as file:\n",
    "    # Read the entire content of the file\n",
    "    content = file.read()\n",
    "\n",
    "# Split the content into words and count them\n",
    "words = content.split()\n",
    "word_count = len(words)\n",
    "\n",
    "print(f\"Total number of words in the file: {word_count}\")"
   ]
  },
  {
   "cell_type": "code",
   "execution_count": 26,
   "id": "41a321a4-e64d-4582-b426-a92b1639f43e",
   "metadata": {},
   "outputs": [
    {
     "name": "stdout",
     "output_type": "stream",
     "text": [
      "Contents of 'list_items.txt' have been copied to 'copied_items.txt'.\n"
     ]
    }
   ],
   "source": [
    "# Task 8 - Copy the contents of one file to another file.\n",
    "\n",
    "# Ans  \n",
    "# Source file to copy from\n",
    "source_file = \"list_items.txt\"\n",
    "\n",
    "# Destination file to copy to\n",
    "destination_file = \"copied_items.txt\"\n",
    "\n",
    "# Open the source file in read mode and the destination file in write mode\n",
    "with open(source_file, \"r\") as src, open(destination_file, \"w\") as dst:\n",
    "    # Read the content from the source file and write it to the destination file\n",
    "    dst.write(src.read())\n",
    "\n",
    "print(f\"Contents of '{source_file}' have been copied to '{destination_file}'.\")"
   ]
  },
  {
   "cell_type": "code",
   "execution_count": 32,
   "id": "9d7e3f69-1a80-4602-97d2-d479733097ab",
   "metadata": {},
   "outputs": [
    {
     "name": "stdout",
     "output_type": "stream",
     "text": [
      "File content:\n",
      "Moblie \n",
      "tablet\n",
      "Microphone\n",
      "laptop\n",
      "computer\n",
      "\n"
     ]
    }
   ],
   "source": [
    "# Task 9 - Check if a file exists before attempting to read it.\n",
    "\n",
    "# Ans  \n",
    "# using pathlib: This is a module in Python that provides an object-oriented interface for \n",
    "#working with filesystem paths. It is a more modern and versatile alternative \n",
    "#to using functions like os.path for path manipulations.\n",
    "\n",
    "from pathlib import Path\n",
    "\n",
    "# File to check\n",
    "file_name = \"list_items.txt\"\n",
    "\n",
    "# Create a Path object\n",
    "file_path = Path(file_name)\n",
    "\n",
    "# Check if the file exists\n",
    "if file_path.exists():\n",
    "    # Open and read the file if it exists\n",
    "    with file_path.open(\"r\") as file:\n",
    "        content = file.read()\n",
    "    print(f\"File content:\\n{content}\")\n",
    "else:\n",
    "    print(f\"The file '{file_name}' does not exist.\")\n",
    "   "
   ]
  },
  {
   "cell_type": "code",
   "execution_count": 33,
   "id": "59d9e3a8-8100-49c5-980b-533ef0d9f6af",
   "metadata": {},
   "outputs": [
    {
     "name": "stdout",
     "output_type": "stream",
     "text": [
      "The file 'list_items.txt' has been deleted.\n"
     ]
    }
   ],
   "source": [
    "#Task 10 - Delete a file using Python.\n",
    "# Ans  \n",
    "import os\n",
    "\n",
    "# File to delete\n",
    "file_name = \"list_items.txt\"\n",
    "\n",
    "# Check if the file exists before trying to delete it\n",
    "if os.path.exists(file_name):\n",
    "    os.remove(file_name)\n",
    "    print(f\"The file '{file_name}' has been deleted.\")\n",
    "else:\n",
    "    print(f\"The file '{file_name}' does not exist.\")\n"
   ]
  },
  {
   "cell_type": "code",
   "execution_count": null,
   "id": "4ba2e040-12c0-4dd3-97ec-26f7e072544f",
   "metadata": {},
   "outputs": [],
   "source": []
  }
 ],
 "metadata": {
  "kernelspec": {
   "display_name": "Python 3 (ipykernel)",
   "language": "python",
   "name": "python3"
  },
  "language_info": {
   "codemirror_mode": {
    "name": "ipython",
    "version": 3
   },
   "file_extension": ".py",
   "mimetype": "text/x-python",
   "name": "python",
   "nbconvert_exporter": "python",
   "pygments_lexer": "ipython3",
   "version": "3.10.8"
  }
 },
 "nbformat": 4,
 "nbformat_minor": 5
}
